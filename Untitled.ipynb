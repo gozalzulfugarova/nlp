{
 "cells": [
  {
   "cell_type": "code",
   "execution_count": 1,
   "id": "312c581d",
   "metadata": {},
   "outputs": [
    {
     "name": "stdout",
     "output_type": "stream",
     "text": [
      "Note: you may need to restart the kernel to use updated packages.\n"
     ]
    },
    {
     "name": "stderr",
     "output_type": "stream",
     "text": [
      "ERROR: Could not find a version that satisfies the requirement facebook (from versions: none)\n",
      "ERROR: No matching distribution found for facebook\n"
     ]
    }
   ],
   "source": [
    "pip install facebook"
   ]
  },
  {
   "cell_type": "code",
   "execution_count": 2,
   "id": "c978a67f",
   "metadata": {},
   "outputs": [
    {
     "name": "stdout",
     "output_type": "stream",
     "text": [
      "Collecting facebook-sdk\n",
      "  Downloading facebook_sdk-3.1.0-py2.py3-none-any.whl (7.5 kB)\n",
      "Requirement already satisfied: requests in c:\\users\\user\\anaconda3\\lib\\site-packages (from facebook-sdk) (2.28.1)\n",
      "Requirement already satisfied: idna<4,>=2.5 in c:\\users\\user\\anaconda3\\lib\\site-packages (from requests->facebook-sdk) (3.4)\n",
      "Requirement already satisfied: charset-normalizer<3,>=2 in c:\\users\\user\\anaconda3\\lib\\site-packages (from requests->facebook-sdk) (2.0.4)\n",
      "Requirement already satisfied: urllib3<1.27,>=1.21.1 in c:\\users\\user\\anaconda3\\lib\\site-packages (from requests->facebook-sdk) (1.26.14)\n",
      "Requirement already satisfied: certifi>=2017.4.17 in c:\\users\\user\\anaconda3\\lib\\site-packages (from requests->facebook-sdk) (2022.12.7)\n",
      "Installing collected packages: facebook-sdk\n",
      "Successfully installed facebook-sdk-3.1.0\n",
      "Note: you may need to restart the kernel to use updated packages.\n"
     ]
    }
   ],
   "source": [
    "pip install facebook-sdk"
   ]
  },
  {
   "cell_type": "code",
   "execution_count": 3,
   "id": "3431749f",
   "metadata": {},
   "outputs": [
    {
     "name": "stdout",
     "output_type": "stream",
     "text": [
      "Collecting pypi\n",
      "  Downloading pypi-2.1.tar.gz (997 bytes)\n",
      "  Preparing metadata (setup.py): started\n",
      "  Preparing metadata (setup.py): finished with status 'done'\n",
      "Building wheels for collected packages: pypi\n",
      "  Building wheel for pypi (setup.py): started\n",
      "  Building wheel for pypi (setup.py): finished with status 'done'\n",
      "  Created wheel for pypi: filename=pypi-2.1-py3-none-any.whl size=1344 sha256=509f3bb2a05abab5613bbc17bbfe02f9e6c4905bbbde786f96eb9dcea8809ddb\n",
      "  Stored in directory: c:\\users\\user\\appdata\\local\\pip\\cache\\wheels\\60\\e2\\77\\e35d8b4ab0bb084d8060e69228cd5e4f90fba23b93421db29a\n",
      "Successfully built pypi\n",
      "Installing collected packages: pypi\n",
      "Successfully installed pypi-2.1\n",
      "Note: you may need to restart the kernel to use updated packages.\n"
     ]
    }
   ],
   "source": [
    "pip install pypi"
   ]
  },
  {
   "cell_type": "code",
   "execution_count": 6,
   "id": "5417fe67",
   "metadata": {},
   "outputs": [],
   "source": [
    "\n",
    "import facebook\n",
    "import json\n",
    "import pandas as pd\n"
   ]
  },
  {
   "cell_type": "code",
   "execution_count": 5,
   "id": "d4199f9a",
   "metadata": {},
   "outputs": [
    {
     "name": "stdout",
     "output_type": "stream",
     "text": [
      "Collecting python-facebook-api\n",
      "  Downloading python_facebook_api-0.15.0-py3-none-any.whl (74 kB)\n",
      "     -------------------------------------- 74.5/74.5 kB 584.1 kB/s eta 0:00:00\n",
      "Requirement already satisfied: requests<3.0.0,>=2.24.0 in c:\\users\\user\\anaconda3\\lib\\site-packages (from python-facebook-api) (2.28.1)\n",
      "Collecting dataclasses-json<0.6.0,>=0.5.4\n",
      "  Downloading dataclasses_json-0.5.7-py3-none-any.whl (25 kB)\n",
      "Collecting requests-oauthlib<2.0.0,>=1.3.0\n",
      "  Downloading requests_oauthlib-1.3.1-py2.py3-none-any.whl (23 kB)\n",
      "Collecting marshmallow<4.0.0,>=3.3.0\n",
      "  Downloading marshmallow-3.19.0-py3-none-any.whl (49 kB)\n",
      "     ---------------------------------------- 49.1/49.1 kB 2.4 MB/s eta 0:00:00\n",
      "Collecting typing-inspect>=0.4.0\n",
      "  Downloading typing_inspect-0.8.0-py3-none-any.whl (8.7 kB)\n",
      "Collecting marshmallow-enum<2.0.0,>=1.5.1\n",
      "  Downloading marshmallow_enum-1.5.1-py2.py3-none-any.whl (4.2 kB)\n",
      "Requirement already satisfied: charset-normalizer<3,>=2 in c:\\users\\user\\anaconda3\\lib\\site-packages (from requests<3.0.0,>=2.24.0->python-facebook-api) (2.0.4)\n",
      "Requirement already satisfied: certifi>=2017.4.17 in c:\\users\\user\\anaconda3\\lib\\site-packages (from requests<3.0.0,>=2.24.0->python-facebook-api) (2022.12.7)\n",
      "Requirement already satisfied: idna<4,>=2.5 in c:\\users\\user\\anaconda3\\lib\\site-packages (from requests<3.0.0,>=2.24.0->python-facebook-api) (3.4)\n",
      "Requirement already satisfied: urllib3<1.27,>=1.21.1 in c:\\users\\user\\anaconda3\\lib\\site-packages (from requests<3.0.0,>=2.24.0->python-facebook-api) (1.26.14)\n",
      "Collecting oauthlib>=3.0.0\n",
      "  Downloading oauthlib-3.2.2-py3-none-any.whl (151 kB)\n",
      "     -------------------------------------- 151.7/151.7 kB 1.8 MB/s eta 0:00:00\n",
      "Requirement already satisfied: packaging>=17.0 in c:\\users\\user\\anaconda3\\lib\\site-packages (from marshmallow<4.0.0,>=3.3.0->dataclasses-json<0.6.0,>=0.5.4->python-facebook-api) (22.0)\n",
      "Requirement already satisfied: typing-extensions>=3.7.4 in c:\\users\\user\\anaconda3\\lib\\site-packages (from typing-inspect>=0.4.0->dataclasses-json<0.6.0,>=0.5.4->python-facebook-api) (4.4.0)\n",
      "Requirement already satisfied: mypy-extensions>=0.3.0 in c:\\users\\user\\anaconda3\\lib\\site-packages (from typing-inspect>=0.4.0->dataclasses-json<0.6.0,>=0.5.4->python-facebook-api) (0.4.3)\n",
      "Installing collected packages: typing-inspect, oauthlib, marshmallow, requests-oauthlib, marshmallow-enum, dataclasses-json, python-facebook-api\n",
      "Successfully installed dataclasses-json-0.5.7 marshmallow-3.19.0 marshmallow-enum-1.5.1 oauthlib-3.2.2 python-facebook-api-0.15.0 requests-oauthlib-1.3.1 typing-inspect-0.8.0\n",
      "Note: you may need to restart the kernel to use updated packages.\n"
     ]
    }
   ],
   "source": [
    "pip install --upgrade python-facebook-api"
   ]
  },
  {
   "cell_type": "code",
   "execution_count": 7,
   "id": "398e1d08",
   "metadata": {},
   "outputs": [
    {
     "ename": "GraphAPIError",
     "evalue": "Unsupported get request. Please read the Graph API documentation at https://developers.facebook.com/docs/graph-api",
     "output_type": "error",
     "traceback": [
      "\u001b[1;31m---------------------------------------------------------------------------\u001b[0m",
      "\u001b[1;31mGraphAPIError\u001b[0m                             Traceback (most recent call last)",
      "Cell \u001b[1;32mIn[7], line 2\u001b[0m\n\u001b[0;32m      1\u001b[0m graph\u001b[38;5;241m=\u001b[39mfacebook\u001b[38;5;241m.\u001b[39mGraphAPI(\u001b[38;5;124m'\u001b[39m\u001b[38;5;124m'\u001b[39m)\n\u001b[1;32m----> 2\u001b[0m posts\u001b[38;5;241m=\u001b[39m\u001b[43mgraph\u001b[49m\u001b[38;5;241;43m.\u001b[39;49m\u001b[43mget_object\u001b[49m\u001b[43m(\u001b[49m\u001b[38;5;28;43mid\u001b[39;49m\u001b[38;5;241;43m=\u001b[39;49m\u001b[38;5;124;43m'\u001b[39;49m\u001b[38;5;124;43m'\u001b[39;49m\u001b[43m,\u001b[49m\u001b[43mfields\u001b[49m\u001b[38;5;241;43m=\u001b[39;49m\u001b[38;5;124;43m'\u001b[39;49m\u001b[38;5;124;43mcomments\u001b[39;49m\u001b[38;5;124;43m'\u001b[39;49m\u001b[43m)\u001b[49m\n\u001b[0;32m      3\u001b[0m \u001b[38;5;28mprint\u001b[39m(json\u001b[38;5;241m.\u001b[39mdumps(posts,indent\u001b[38;5;241m=\u001b[39m\u001b[38;5;241m4\u001b[39m))\n\u001b[0;32m      4\u001b[0m filecsv\u001b[38;5;241m=\u001b[39mpd\u001b[38;5;241m.\u001b[39mread_json(json\u001b[38;5;241m.\u001b[39mdumps(posts,indent\u001b[38;5;241m=\u001b[39m\u001b[38;5;241m4\u001b[39m))\n",
      "File \u001b[1;32m~\\anaconda3\\lib\\site-packages\\facebook\\__init__.py:126\u001b[0m, in \u001b[0;36mGraphAPI.get_object\u001b[1;34m(self, id, **args)\u001b[0m\n\u001b[0;32m    124\u001b[0m \u001b[38;5;28;01mdef\u001b[39;00m \u001b[38;5;21mget_object\u001b[39m(\u001b[38;5;28mself\u001b[39m, \u001b[38;5;28mid\u001b[39m, \u001b[38;5;241m*\u001b[39m\u001b[38;5;241m*\u001b[39margs):\n\u001b[0;32m    125\u001b[0m     \u001b[38;5;124;03m\"\"\"Fetches the given object from the graph.\"\"\"\u001b[39;00m\n\u001b[1;32m--> 126\u001b[0m     \u001b[38;5;28;01mreturn\u001b[39;00m \u001b[38;5;28;43mself\u001b[39;49m\u001b[38;5;241;43m.\u001b[39;49m\u001b[43mrequest\u001b[49m\u001b[43m(\u001b[49m\u001b[38;5;124;43m\"\u001b[39;49m\u001b[38;5;132;43;01m{0}\u001b[39;49;00m\u001b[38;5;124;43m/\u001b[39;49m\u001b[38;5;132;43;01m{1}\u001b[39;49;00m\u001b[38;5;124;43m\"\u001b[39;49m\u001b[38;5;241;43m.\u001b[39;49m\u001b[43mformat\u001b[49m\u001b[43m(\u001b[49m\u001b[38;5;28;43mself\u001b[39;49m\u001b[38;5;241;43m.\u001b[39;49m\u001b[43mversion\u001b[49m\u001b[43m,\u001b[49m\u001b[43m \u001b[49m\u001b[38;5;28;43mid\u001b[39;49m\u001b[43m)\u001b[49m\u001b[43m,\u001b[49m\u001b[43m \u001b[49m\u001b[43margs\u001b[49m\u001b[43m)\u001b[49m\n",
      "File \u001b[1;32m~\\anaconda3\\lib\\site-packages\\facebook\\__init__.py:313\u001b[0m, in \u001b[0;36mGraphAPI.request\u001b[1;34m(self, path, args, post_args, files, method)\u001b[0m\n\u001b[0;32m    310\u001b[0m     \u001b[38;5;28;01mraise\u001b[39;00m GraphAPIError(\u001b[38;5;124m\"\u001b[39m\u001b[38;5;124mMaintype was not text, image, or querystring\u001b[39m\u001b[38;5;124m\"\u001b[39m)\n\u001b[0;32m    312\u001b[0m \u001b[38;5;28;01mif\u001b[39;00m result \u001b[38;5;129;01mand\u001b[39;00m \u001b[38;5;28misinstance\u001b[39m(result, \u001b[38;5;28mdict\u001b[39m) \u001b[38;5;129;01mand\u001b[39;00m result\u001b[38;5;241m.\u001b[39mget(\u001b[38;5;124m\"\u001b[39m\u001b[38;5;124merror\u001b[39m\u001b[38;5;124m\"\u001b[39m):\n\u001b[1;32m--> 313\u001b[0m     \u001b[38;5;28;01mraise\u001b[39;00m GraphAPIError(result)\n\u001b[0;32m    314\u001b[0m \u001b[38;5;28;01mreturn\u001b[39;00m result\n",
      "\u001b[1;31mGraphAPIError\u001b[0m: Unsupported get request. Please read the Graph API documentation at https://developers.facebook.com/docs/graph-api"
     ]
    }
   ],
   "source": [
    "graph=facebook.GraphAPI('')\n",
    "posts=graph.get_object(id='',fields='comments')\n",
    "print(json.dumps(posts,indent=4))\n",
    "filecsv=pd.read_json(json.dumps(posts,indent=4))\n",
    "filecsv.to_csv('FBcomments.csv',index=None)"
   ]
  },
  {
   "cell_type": "code",
   "execution_count": 8,
   "id": "b29b2b42",
   "metadata": {},
   "outputs": [
    {
     "name": "stdout",
     "output_type": "stream",
     "text": [
      "Requirement already satisfied: requests in c:\\users\\user\\anaconda3\\lib\\site-packages (2.28.1)\n",
      "Requirement already satisfied: certifi>=2017.4.17 in c:\\users\\user\\anaconda3\\lib\\site-packages (from requests) (2022.12.7)\n",
      "Requirement already satisfied: idna<4,>=2.5 in c:\\users\\user\\anaconda3\\lib\\site-packages (from requests) (3.4)\n",
      "Requirement already satisfied: urllib3<1.27,>=1.21.1 in c:\\users\\user\\anaconda3\\lib\\site-packages (from requests) (1.26.14)\n",
      "Requirement already satisfied: charset-normalizer<3,>=2 in c:\\users\\user\\anaconda3\\lib\\site-packages (from requests) (2.0.4)\n",
      "Note: you may need to restart the kernel to use updated packages.\n"
     ]
    }
   ],
   "source": [
    "pip install requests\n"
   ]
  },
  {
   "cell_type": "code",
   "execution_count": 9,
   "id": "c29e2252",
   "metadata": {},
   "outputs": [],
   "source": [
    "import requests "
   ]
  },
  {
   "cell_type": "code",
   "execution_count": 10,
   "id": "248d5535",
   "metadata": {},
   "outputs": [],
   "source": [
    "import time\n",
    "import pickle\n",
    "import random"
   ]
  },
  {
   "cell_type": "code",
   "execution_count": 11,
   "id": "fafbebe7",
   "metadata": {},
   "outputs": [],
   "source": [
    "token='EAAHfxwkFQuQBAOU4TY8lQFJVoQ3XLJQ1Vfs7xmwbC0sRVLR0ebAO7umZCEizE1rxNpl2ErXCwlorMFiT7bDuOlaTlYmbZC13r7Uz5HmctHl1MuM6C5EHQWS6347Vjt1rMcK5eQBrYyiWJfejT4ZAhWXGX1evS1Yqu3DZCfZCJWGecK6fh4J8ZAzP7BAyeQ70AKGDhkEN6eL0ZBMkKxFZAmIrFZALxxpejytazFJJMdUDTqw4LZANZBpXBai'"
   ]
  },
  {
   "cell_type": "code",
   "execution_count": 13,
   "id": "59f5471b",
   "metadata": {},
   "outputs": [
    {
     "ename": "SyntaxError",
     "evalue": "invalid syntax (3859271389.py, line 1)",
     "output_type": "error",
     "traceback": [
      "\u001b[1;36m  Cell \u001b[1;32mIn[13], line 1\u001b[1;36m\u001b[0m\n\u001b[1;33m    https:\u001b[0m\n\u001b[1;37m          ^\u001b[0m\n\u001b[1;31mSyntaxError\u001b[0m\u001b[1;31m:\u001b[0m invalid syntax\n"
     ]
    }
   ],
   "source": [
    "https:\n",
    "\n",
    "import requests\n",
    "\n",
    "app_id = '527520919536356'  # Replace with your own app ID\n",
    "app_secret = '71760b4a764d0509b24cfa722f46c1eb'  # Replace with your own app secret\n",
    "short_lived_token = 'EAAHfxwkFQuQBAPJyhPifb2DtXUNZCLl04KctAVeTG5EakK5II9f7JxSX4ehkk9vsKFnzsZBsIwTJqO0xQOPpJrPNZB92bvRJVXZC3EiBxmoQ5uhZCjqPZCiA6ajRiCmIZAeiZAMXC871ycZAL8EGh0klczdHOzd8LeVf5YrXTZAirR80752c6uPnbDG2ONLQXVmnBaVVpARK6i3HoMsjraDiCGYe6KQBkGXlG6yBdnk2iZBxGNvPCJOEZBsJ'  # Replace with your own short-lived access token\n",
    "\n",
    "url = f'https://graph.facebook.com/v12.0/oauth/access_token?grant_type=fb_exchange_token&client_id={app_id}&client_secret={app_secret}&fb_exchange_token={short_lived_token}'\n",
    "response = requests.get(url)\n",
    "\n",
    "long_lived_token = response.json()['access_token']"
   ]
  },
  {
   "cell_type": "code",
   "execution_count": 14,
   "id": "7bda5647",
   "metadata": {},
   "outputs": [],
   "source": [
    "import requests\n",
    "\n",
    "\n",
    "post_id = '02Ftf8YdWw2DDZh2Ui8Res62bM2JgCpRvX4efuq531SCNnUrzUNcGFk2M8NJDGF7dhl'  \n",
    "# Replace with the ID of the post you want to parse comments from\n",
    "access_token = 'EAAHfxwkFQuQBABLZBBmNIYNTO8zBIL0A31tYF35VtW4bLCisMji8FIPvZA1HTex2nLiGrWYQUPSn4UcPYHLG1pZBo5Cr3nulDN49ZAxeH7kOrxYnj96UoovlF2ZA2o9L28FhCilXeuX7lKvJ4FprhlsiD210DrcgQOWsA7yaRyNThtClRFdZCnaxygZBrS3qhpxzGnMe16fGakLtXHr0r0k'\n",
    "url = f'https://graph.facebook.com/v12.0/{post_id}/comments?access_token={access_token}'\n",
    "\n",
    "\n",
    "\n",
    "url = f'https://graph.facebook.com/v12.0/{post_id}/comments?access_token={access_token}'\n",
    "response = requests.get(url)\n",
    "\n",
    "\n",
    "\n",
    "response = requests.get(url)\n",
    "\n"
   ]
  },
  {
   "cell_type": "code",
   "execution_count": 20,
   "id": "7df9ea63",
   "metadata": {},
   "outputs": [
    {
     "name": "stdout",
     "output_type": "stream",
     "text": [
      "{\n",
      "  \"error\": {\n",
      "    \"message\": \"(#200) Missing Permissions\",\n",
      "    \"type\": \"OAuthException\",\n",
      "    \"code\": 200,\n",
      "    \"fbtrace_id\": \"AQXpV6KNovSRTEbqnN7NMib\"\n",
      "  }\n",
      "}\n"
     ]
    },
    {
     "ename": "KeyError",
     "evalue": "'data'",
     "output_type": "error",
     "traceback": [
      "\u001b[1;31m---------------------------------------------------------------------------\u001b[0m",
      "\u001b[1;31mKeyError\u001b[0m                                  Traceback (most recent call last)",
      "Cell \u001b[1;32mIn[20], line 9\u001b[0m\n\u001b[0;32m      5\u001b[0m \u001b[38;5;28;01mimport\u001b[39;00m \u001b[38;5;21;01mjson\u001b[39;00m\n\u001b[0;32m      7\u001b[0m \u001b[38;5;28mprint\u001b[39m(json\u001b[38;5;241m.\u001b[39mdumps(data, indent\u001b[38;5;241m=\u001b[39m\u001b[38;5;241m2\u001b[39m))\n\u001b[1;32m----> 9\u001b[0m comments \u001b[38;5;241m=\u001b[39m \u001b[43mresponse\u001b[49m\u001b[38;5;241;43m.\u001b[39;49m\u001b[43mjson\u001b[49m\u001b[43m(\u001b[49m\u001b[43m)\u001b[49m\u001b[43m[\u001b[49m\u001b[38;5;124;43m'\u001b[39;49m\u001b[38;5;124;43mdata\u001b[39;49m\u001b[38;5;124;43m'\u001b[39;49m\u001b[43m]\u001b[49m\n",
      "\u001b[1;31mKeyError\u001b[0m: 'data'"
     ]
    }
   ],
   "source": [
    "# Parse the JSON response into a Python object\n",
    "data = json.loads(response.text)\n",
    "\n",
    "comments = response.json()\n",
    "import json\n",
    "\n",
    "print(json.dumps(data, indent=2))\n",
    "\n",
    "comments = response.json()['data']"
   ]
  },
  {
   "cell_type": "code",
   "execution_count": 16,
   "id": "bc3bcc76",
   "metadata": {},
   "outputs": [
    {
     "name": "stdout",
     "output_type": "stream",
     "text": [
      "{\n",
      "  \"error\": {\n",
      "    \"message\": \"Error validating access token: The session is invalid because the user logged out.\",\n",
      "    \"type\": \"OAuthException\",\n",
      "    \"code\": 190,\n",
      "    \"error_subcode\": 467,\n",
      "    \"fbtrace_id\": \"A89gzU0iN5eMDCxJ9-F28Qg\"\n",
      "  }\n",
      "}\n"
     ]
    }
   ],
   "source": [
    "# Parse the JSON response into a Python object\n",
    "data = json.loads(response.text)\n",
    "\n",
    "# Print the entire JSON response\n",
    "print(json.dumps(data, indent=2))\n",
    "\n",
    "\n",
    "\n",
    "\n",
    "\n",
    "page_id='100091921387756'\n",
    "\n",
    "\n",
    "# In[69]:\n",
    "\n",
    "\n",
    "post_id='105133019227411'\n",
    "\n",
    "\n",
    "\n",
    "access_token='EAAHfxwkFQuQBAKR5LLRyXyotlRblt7DT4eQLCXMYoY1tHusFvzjDgh97JgfJ0rE2RfEea0W4z9i3HbByofe6cBcm9iofAPpzVZBXbHZBLN3pcS5htZBlO27ENacI0qvIwuB7sB5uZAovC92FmgnBSwvWgeob5wvhS7pXCjGmu6EHRsOwCKCy'\n",
    "\n",
    "\n",
    "\n",
    "url = f'https://graph.facebook.com/v12.0/{page_id}_{post_id}/comments?access_token={access_token}'\n",
    "\n",
    "\n",
    "\n",
    "\n",
    "response = requests.request(\"GET\", url)"
   ]
  },
  {
   "cell_type": "code",
   "execution_count": 21,
   "id": "89f56570",
   "metadata": {},
   "outputs": [
    {
     "ename": "KeyError",
     "evalue": "'data'",
     "output_type": "error",
     "traceback": [
      "\u001b[1;31m---------------------------------------------------------------------------\u001b[0m",
      "\u001b[1;31mKeyError\u001b[0m                                  Traceback (most recent call last)",
      "Cell \u001b[1;32mIn[21], line 12\u001b[0m\n\u001b[0;32m      5\u001b[0m \u001b[38;5;28;01mdef\u001b[39;00m \u001b[38;5;21mget_comment\u001b[39m(comment):\n\u001b[0;32m      6\u001b[0m     \u001b[38;5;28;01mreturn\u001b[39;00m {\n\u001b[0;32m      7\u001b[0m         \u001b[38;5;124m'\u001b[39m\u001b[38;5;124mname\u001b[39m\u001b[38;5;124m'\u001b[39m: comment[\u001b[38;5;124m'\u001b[39m\u001b[38;5;124mfrom\u001b[39m\u001b[38;5;124m'\u001b[39m][\u001b[38;5;124m'\u001b[39m\u001b[38;5;124mname\u001b[39m\u001b[38;5;124m'\u001b[39m],\n\u001b[0;32m      8\u001b[0m         \u001b[38;5;124m'\u001b[39m\u001b[38;5;124mtime\u001b[39m\u001b[38;5;124m'\u001b[39m: comment[\u001b[38;5;124m'\u001b[39m\u001b[38;5;124mcreated_time\u001b[39m\u001b[38;5;124m'\u001b[39m],\n\u001b[0;32m      9\u001b[0m         \u001b[38;5;124m'\u001b[39m\u001b[38;5;124mmessage\u001b[39m\u001b[38;5;124m'\u001b[39m: comment[\u001b[38;5;124m'\u001b[39m\u001b[38;5;124mmessage\u001b[39m\u001b[38;5;124m'\u001b[39m]\n\u001b[0;32m     10\u001b[0m     }\n\u001b[1;32m---> 12\u001b[0m excel_data \u001b[38;5;241m=\u001b[39m \u001b[38;5;28mlist\u001b[39m(\u001b[38;5;28mmap\u001b[39m(get_comment,\u001b[43mdata\u001b[49m\u001b[43m[\u001b[49m\u001b[38;5;124;43m\"\u001b[39;49m\u001b[38;5;124;43mdata\u001b[39;49m\u001b[38;5;124;43m\"\u001b[39;49m\u001b[43m]\u001b[49m))\n\u001b[0;32m     13\u001b[0m df \u001b[38;5;241m=\u001b[39m pd\u001b[38;5;241m.\u001b[39mDataFrame(excel_data)\n\u001b[0;32m     14\u001b[0m df\u001b[38;5;241m.\u001b[39mto_excel(\u001b[38;5;124m'\u001b[39m\u001b[38;5;124mcomments.xlsx\u001b[39m\u001b[38;5;124m'\u001b[39m, index\u001b[38;5;241m=\u001b[39m\u001b[38;5;28;01mFalse\u001b[39;00m)\n",
      "\u001b[1;31mKeyError\u001b[0m: 'data'"
     ]
    }
   ],
   "source": [
    "\n",
    "# save name, time, message in excel file\n",
    "data = json.loads(response.text)\n",
    "\n",
    "# create object with only name, time, message\n",
    "def get_comment(comment):\n",
    "    return {\n",
    "        'name': comment['from']['name'],\n",
    "        'time': comment['created_time'],\n",
    "        'message': comment['message']\n",
    "    }\n",
    "\n",
    "excel_data = list(map(get_comment,data[\"data\"]))\n",
    "df = pd.DataFrame(excel_data)\n",
    "df.to_excel('comments.xlsx', index=False)\n"
   ]
  },
  {
   "cell_type": "code",
   "execution_count": 22,
   "id": "20e8ce91",
   "metadata": {},
   "outputs": [],
   "source": [
    "import requests\n",
    "import pandas as pd\n",
    "import json\n",
    "\n",
    "page_id = '100091921387756' # your page id, ex: '123456789'\n",
    "post_id = '105133019227411' # your post id, ex: '123456789'\n",
    "access_token='EAAHfxwkFQuQBAKR5LLRyXyotlRblt7DT4eQLCXMYoY1tHusFvzjDgh97JgfJ0rE2RfEea0W4z9i3HbByofe6cBcm9iofAPpzVZBXbHZBLN3pcS5htZBlO27ENacI0qvIwuB7sB5uZAovC92FmgnBSwvWgeob5wvhS7pXCjGmu6EHRsOwCKCy'\n",
    "url = f'https://graph.facebook.com/v16.0/{page_id}_{post_id}/comments?access_token={access_token}'\n",
    "\n",
    "response = requests.request(\"GET\", url)\n"
   ]
  },
  {
   "cell_type": "code",
   "execution_count": 25,
   "id": "7baa4743",
   "metadata": {},
   "outputs": [
    {
     "ename": "KeyError",
     "evalue": "'data'",
     "output_type": "error",
     "traceback": [
      "\u001b[1;31m---------------------------------------------------------------------------\u001b[0m",
      "\u001b[1;31mKeyError\u001b[0m                                  Traceback (most recent call last)",
      "Cell \u001b[1;32mIn[25], line 12\u001b[0m\n\u001b[0;32m      5\u001b[0m \u001b[38;5;28;01mdef\u001b[39;00m \u001b[38;5;21mget_comment\u001b[39m(comment):\n\u001b[0;32m      6\u001b[0m     \u001b[38;5;28;01mreturn\u001b[39;00m {\n\u001b[0;32m      7\u001b[0m         \u001b[38;5;124m'\u001b[39m\u001b[38;5;124mname\u001b[39m\u001b[38;5;124m'\u001b[39m: comment[\u001b[38;5;124m'\u001b[39m\u001b[38;5;124mfrom\u001b[39m\u001b[38;5;124m'\u001b[39m][\u001b[38;5;124m'\u001b[39m\u001b[38;5;124mname\u001b[39m\u001b[38;5;124m'\u001b[39m],\n\u001b[0;32m      8\u001b[0m         \u001b[38;5;124m'\u001b[39m\u001b[38;5;124mtime\u001b[39m\u001b[38;5;124m'\u001b[39m: comment[\u001b[38;5;124m'\u001b[39m\u001b[38;5;124mcreated_time\u001b[39m\u001b[38;5;124m'\u001b[39m],\n\u001b[0;32m      9\u001b[0m         \u001b[38;5;124m'\u001b[39m\u001b[38;5;124mmessage\u001b[39m\u001b[38;5;124m'\u001b[39m: comment[\u001b[38;5;124m'\u001b[39m\u001b[38;5;124mmessage\u001b[39m\u001b[38;5;124m'\u001b[39m]\n\u001b[0;32m     10\u001b[0m     }\n\u001b[1;32m---> 12\u001b[0m excel_data \u001b[38;5;241m=\u001b[39m \u001b[38;5;28mlist\u001b[39m(\u001b[38;5;28mmap\u001b[39m(get_comment, \u001b[43mdata\u001b[49m\u001b[43m[\u001b[49m\u001b[38;5;124;43m'\u001b[39;49m\u001b[38;5;124;43mdata\u001b[39;49m\u001b[38;5;124;43m'\u001b[39;49m\u001b[43m]\u001b[49m))\n\u001b[0;32m     13\u001b[0m df \u001b[38;5;241m=\u001b[39m pd\u001b[38;5;241m.\u001b[39mDataFrame(excel_data)\n\u001b[0;32m     14\u001b[0m df\u001b[38;5;241m.\u001b[39mto_excel(\u001b[38;5;124m'\u001b[39m\u001b[38;5;124mcomments.xlsx\u001b[39m\u001b[38;5;124m'\u001b[39m, index\u001b[38;5;241m=\u001b[39m\u001b[38;5;28;01mFalse\u001b[39;00m)\n",
      "\u001b[1;31mKeyError\u001b[0m: 'data'"
     ]
    }
   ],
   "source": [
    "\n",
    "\n",
    "# save name, time, message in excel file\n",
    "data = json.loads(response.text)\n",
    "\n",
    "# create object with only name, time, message\n",
    "def get_comment(comment):\n",
    "    return {\n",
    "        'name': comment['from']['name'],\n",
    "        'time': comment['created_time'],\n",
    "        'message': comment['message']\n",
    "    }\n",
    "\n",
    "excel_data = list(map(get_comment, data['data']))\n",
    "df = pd.DataFrame(excel_data)\n",
    "df.to_excel('comments.xlsx', index=False)"
   ]
  },
  {
   "cell_type": "code",
   "execution_count": 24,
   "id": "8a1abbda",
   "metadata": {},
   "outputs": [
    {
     "name": "stdout",
     "output_type": "stream",
     "text": [
      "{\n",
      "  \"error\": {\n",
      "    \"message\": \"Error validating access token: The session is invalid because the user logged out.\",\n",
      "    \"type\": \"OAuthException\",\n",
      "    \"code\": 190,\n",
      "    \"error_subcode\": 467,\n",
      "    \"fbtrace_id\": \"A_R3gCWXOm4AliLOk1UNfjq\"\n",
      "  }\n",
      "}\n"
     ]
    }
   ],
   "source": [
    "\n",
    "import requests\n",
    "import pandas as pd\n",
    "import json\n",
    "\n",
    "page_id = '100091921387756'\n",
    "post_id = '105133019227411'\n",
    "access_token='EAAHfxwkFQuQBAAH9tF0FDKuQhyYLIBVHO689ZAyYwXkhF9KaDyWXporjRZA9ffdmukFiLtbwJWlekVa0x86Ol41sl1fywSOt6S9a7sqEZBGfOPudsqZBqYtsXpPjzqfvjUSLNZBGprBamZCn9WObPW9wFLAO6JTbay3Jd35V7cwNS1HmMYOjRW4gZCLPKeLfctrNRkZBhVLUh8qiM5PLPqBCF7D2MC6nJd3Qqw3ZBmx6agZAZACmcS8kv6C'\n",
    "url = f'https://graph.facebook.com/v16.0/{page_id}_{post_id}/comments?access_token={access_token}'\n",
    "\n",
    "response = requests.request(\"GET\", url)\n",
    "\n",
    "# Print the entire JSON response\n",
    "print(json.dumps(json.loads(response.text), indent=2))"
   ]
  },
  {
   "cell_type": "code",
   "execution_count": 26,
   "id": "4ec04185",
   "metadata": {},
   "outputs": [
    {
     "data": {
      "text/plain": [
       "{'error': {'message': 'Error validating access token: The session is invalid because the user logged out.',\n",
       "  'type': 'OAuthException',\n",
       "  'code': 190,\n",
       "  'error_subcode': 467,\n",
       "  'fbtrace_id': 'A_R3gCWXOm4AliLOk1UNfjq'}}"
      ]
     },
     "execution_count": 26,
     "metadata": {},
     "output_type": "execute_result"
    }
   ],
   "source": [
    "data"
   ]
  },
  {
   "cell_type": "code",
   "execution_count": null,
   "id": "a7d32cd9",
   "metadata": {},
   "outputs": [],
   "source": [
    "youtube kommentleri video kommentleri \n",
    "application\n",
    "asan xidmet url port icinden postlari ncek \n",
    "postun kommentlerini cek\n"
   ]
  },
  {
   "cell_type": "code",
   "execution_count": null,
   "id": "e9f53c32",
   "metadata": {},
   "outputs": [],
   "source": []
  },
  {
   "cell_type": "code",
   "execution_count": null,
   "id": "62e2abe0",
   "metadata": {},
   "outputs": [],
   "source": [
    "facepager gitlab \n"
   ]
  },
  {
   "cell_type": "code",
   "execution_count": null,
   "id": "3066851d",
   "metadata": {},
   "outputs": [],
   "source": []
  }
 ],
 "metadata": {
  "kernelspec": {
   "display_name": "Python 3 (ipykernel)",
   "language": "python",
   "name": "python3"
  },
  "language_info": {
   "codemirror_mode": {
    "name": "ipython",
    "version": 3
   },
   "file_extension": ".py",
   "mimetype": "text/x-python",
   "name": "python",
   "nbconvert_exporter": "python",
   "pygments_lexer": "ipython3",
   "version": "3.10.9"
  }
 },
 "nbformat": 4,
 "nbformat_minor": 5
}
